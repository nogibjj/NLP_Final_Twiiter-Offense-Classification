{
 "cells": [
  {
   "cell_type": "code",
   "execution_count": 1,
   "metadata": {},
   "outputs": [],
   "source": [
    "import numpy as np\n",
    "import pandas as pd\n",
    "from naive_bayes.py import naive_bayes_model, vocab, combine\n",
    "import random\n",
    "from sklearn.feature_extraction.text import CountVectorizer \n",
    "from sklearn.naive_bayes import MultinomialNB  # Naive Bayes Classifier\n",
    "from sklearn.metrics import *"
   ]
  },
  {
   "cell_type": "code",
   "execution_count": null,
   "metadata": {},
   "outputs": [],
   "source": [
    "def generate_data(model_naive , vocab, sample_size):\n",
    "    \n",
    "    p = np.exp(model_naive.feature_log_prob_)\n",
    "\n",
    "    #Generating non offensive Samples\n",
    "    r_sentences = []\n",
    "    for i in range((sample_size // 2)):\n",
    "        sentence = random.choices (vocab, p[0], k=random.randint(40,60))\n",
    "        r_sentences.append(\" \".join(sentence))\n",
    "    non_offensive=pd.DataFrame({\"Tweets\":r_sentences,\"labels\":0})\n",
    "\n",
    "    #Generating offensive Samples\n",
    "    d_sentences = []\n",
    "    for i in range((sample_size // 2)):\n",
    "        sentence = random.choices (vocab, p[1], k=random.randint(40,60))\n",
    "        d_sentences.append(\" \".join(sentence))\n",
    "    offensive = pd.DataFrame({\"Tweets\":d_sentences,\"labels\":1})\n",
    "\n",
    "    return pd.concat([non_offensive, offensive])"
   ]
  },
  {
   "cell_type": "code",
   "execution_count": null,
   "metadata": {},
   "outputs": [],
   "source": [
    "synthetic_df = generate_data(naive_bayes_model , vocab, len(combine))"
   ]
  },
  {
   "cell_type": "code",
   "execution_count": null,
   "metadata": {},
   "outputs": [],
   "source": [
    "text = synthetic_df['Tweets']\n",
    "model = CountVectorizer(ngram_range = (2, 2), max_df=0.90 ,min_df=2, stop_words='english')\n",
    "matrix = model.fit_transform(text).toarray()\n",
    "df_output = pd.DataFrame(data = matrix, columns = model.get_feature_names())\n",
    "df_output.T.tail(5) \n",
    "\n",
    "bow_vectorizer = CountVectorizer(ngram_range = (2, 2), max_df=0.90 ,min_df=2 , stop_words='english')\n",
    "bow = bow_vectorizer.fit_transform(synthetic_df['Tweets'])\n",
    "\n",
    "#synthetic_df=synthetic_df.fillna(0) #replace all null values by 0\n",
    "from sklearn.model_selection import train_test_split\n",
    "X_train, X_test, y_train, y_test = train_test_split(bow, synthetic_df['labels'],test_size=0.2, random_state=69)\n",
    "\n",
    "from sklearn.naive_bayes import MultinomialNB  # Naive Bayes Classifier\n",
    "\n",
    "model_naive = MultinomialNB().fit(X_train, y_train) \n",
    "predicted_naive = model_naive.predict(X_train)\n",
    "\n",
    "from sklearn.metrics import accuracy_score\n",
    "\n",
    "score_naive = accuracy_score(predicted_naive, y_test)\n",
    "print(\"Accuracy with Naive-bayes: \",score_naive)\n",
    "\n",
    "from sklearn.metrics import accuracy_score\n",
    "\n",
    "score_naive = accuracy_score(predicted_naive, y_train)\n",
    "print(\"Accuracy with Naive-bayes: \",score_naive)"
   ]
  }
 ],
 "metadata": {
  "kernelspec": {
   "display_name": "Python 3",
   "language": "python",
   "name": "python3"
  },
  "language_info": {
   "codemirror_mode": {
    "name": "ipython",
    "version": 3
   },
   "file_extension": ".py",
   "mimetype": "text/x-python",
   "name": "python",
   "nbconvert_exporter": "python",
   "pygments_lexer": "ipython3",
   "version": "3.10.12"
  }
 },
 "nbformat": 4,
 "nbformat_minor": 2
}
