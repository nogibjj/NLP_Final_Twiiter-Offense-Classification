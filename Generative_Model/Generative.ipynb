{
 "cells": [
  {
   "cell_type": "code",
   "execution_count": 1,
   "metadata": {},
   "outputs": [
    {
     "name": "stderr",
     "output_type": "stream",
     "text": [
      "[nltk_data] Downloading package punkt to /home/vscode/nltk_data...\n",
      "[nltk_data]   Package punkt is already up-to-date!\n",
      "[nltk_data] Downloading package wordnet to /home/vscode/nltk_data...\n",
      "[nltk_data]   Package wordnet is already up-to-date!\n"
     ]
    }
   ],
   "source": [
    "import numpy as np\n",
    "import pandas as pd\n",
    "import seaborn as sns\n",
    "import matplotlib.pyplot as plt\n",
    "import time\n",
    "import pickle\n",
    "\n",
    "import nltk\n",
    "from nltk.tokenize.toktok import ToktokTokenizer\n",
    "from nltk.corpus import stopwords\n",
    "#from nltk.stem import LancasterStemmer,WordNetLemmatizer\n",
    "import nltk\n",
    "from nltk.stem import WordNetLemmatizer\n",
    "from nltk.tokenize import word_tokenize\n",
    "nltk.download('punkt')\n",
    "nltk.download('wordnet')\n",
    "lemmatizer = WordNetLemmatizer()\n",
    "\n",
    "\n",
    "import re,string,unicodedata, copy\n",
    "import random\n",
    "\n",
    "\n",
    "from sklearn.model_selection import train_test_split\n",
    "from sklearn.feature_extraction.text import TfidfVectorizer\n",
    "from sklearn import metrics\n",
    "from sklearn.metrics import confusion_matrix\n",
    "from collections import Counter\n",
    "from sklearn.metrics import *\n",
    "\n",
    "import warnings\n",
    "warnings.filterwarnings('ignore')\n",
    "\n",
    "np.random.seed(0)"
   ]
  },
  {
   "cell_type": "code",
   "execution_count": 2,
   "metadata": {},
   "outputs": [],
   "source": [
    "\n",
    "train = pd.read_csv('/workspaces/NLP_Final_Twiiter-Offense-Classification/01_Data/02_Processed/train.csv')\n",
    "test = pd.read_csv('/workspaces/NLP_Final_Twiiter-Offense-Classification/01_Data/02_Processed/test.csv')\n",
    "\n",
    "\n",
    "# Combining the train and test data for cleaning\n",
    "combine=pd.concat([train,test],ignore_index=True)"
   ]
  },
  {
   "cell_type": "markdown",
   "metadata": {},
   "source": [
    "#### changing labels to 1 and 0 for better understanding"
   ]
  },
  {
   "cell_type": "code",
   "execution_count": 3,
   "metadata": {},
   "outputs": [],
   "source": [
    "combine['class']= combine['class'].replace(2, 0)"
   ]
  },
  {
   "cell_type": "code",
   "execution_count": 4,
   "metadata": {},
   "outputs": [
    {
     "data": {
      "text/plain": [
       "class\n",
       "1    4000\n",
       "0    4000\n",
       "Name: count, dtype: int64"
      ]
     },
     "execution_count": 4,
     "metadata": {},
     "output_type": "execute_result"
    }
   ],
   "source": [
    "combine['class'].value_counts()"
   ]
  },
  {
   "cell_type": "markdown",
   "metadata": {},
   "source": [
    "#### lemmitize "
   ]
  },
  {
   "cell_type": "code",
   "execution_count": 5,
   "metadata": {},
   "outputs": [],
   "source": [
    "def lemmatize_text(text):\n",
    "    tokens = word_tokenize(text)\n",
    "    lemmatized_tokens = [lemmatizer.lemmatize(token) for token in tokens]\n",
    "    return ' '.join(lemmatized_tokens)\n",
    "\n",
    "# Apply lemmatization to the 'text' column\n",
    "combine['clean_tweet'] = combine['clean_tweet'].apply(lambda x: lemmatize_text(x))"
   ]
  },
  {
   "cell_type": "code",
   "execution_count": 6,
   "metadata": {},
   "outputs": [
    {
     "name": "stdout",
     "output_type": "stream",
     "text": [
      "Train data has 6400 samples\n",
      "Test data has 1600 samples\n"
     ]
    }
   ],
   "source": [
    "train_imdb, test_imdb = train_test_split(combine,test_size = 0.2)\n",
    "x_train,y_train,x_test,y_test = train_imdb['clean_tweet'].values,train_imdb['class'].values,test_imdb['clean_tweet'].values,test_imdb['class'].values\n",
    "print(f'Train data has {x_train.shape[0]} samples')\n",
    "print(f'Test data has {x_test.shape[0]} samples')"
   ]
  },
  {
   "cell_type": "code",
   "execution_count": 7,
   "metadata": {},
   "outputs": [],
   "source": [
    "#convert training and test to tfidf vectors\n",
    "vectorizer = TfidfVectorizer()\n",
    "vectorizer.fit(x_train)\n",
    "x_train1 = vectorizer.transform(x_train)\n",
    "x_test1 = vectorizer.transform(x_test)"
   ]
  },
  {
   "cell_type": "code",
   "execution_count": 8,
   "metadata": {},
   "outputs": [],
   "source": [
    "word_list = []\n",
    "\n",
    "for sent in x_train:\n",
    "    for word in sent.split():\n",
    "        if word != '':\n",
    "            word_list.append(word)\n",
    "\n",
    "#make vocab dictionary\n",
    "corpus = Counter(word_list)\n",
    "corpus_ = sorted(corpus,key=corpus.get,reverse=True)[:4000]\n",
    "\n",
    "#transform courpus to tfidf vector\n",
    "vocabvec = vectorizer.transform(np.array(corpus_))"
   ]
  },
  {
   "cell_type": "code",
   "execution_count": 9,
   "metadata": {},
   "outputs": [
    {
     "name": "stdout",
     "output_type": "stream",
     "text": [
      "Length of vocabulary is 4000\n"
     ]
    }
   ],
   "source": [
    "print(f'Length of vocabulary is {len(corpus_)}')"
   ]
  },
  {
   "cell_type": "markdown",
   "metadata": {},
   "source": [
    "### Naive Bayes model fitting on Real World Dataset\n"
   ]
  },
  {
   "cell_type": "code",
   "execution_count": 10,
   "metadata": {},
   "outputs": [
    {
     "name": "stdout",
     "output_type": "stream",
     "text": [
      "Naive Bayes model accuracy: 89.125%\n"
     ]
    }
   ],
   "source": [
    "from sklearn.naive_bayes import MultinomialNB\n",
    "from sklearn.preprocessing import normalize\n",
    "clf = MultinomialNB()\n",
    "clf.fit(x_train1, y_train)\n",
    "print(f'Naive Bayes model accuracy: {clf.score(x_test1, y_test)*100}%')"
   ]
  },
  {
   "cell_type": "markdown",
   "metadata": {},
   "source": [
    "### Model evaluation against validation set\n"
   ]
  },
  {
   "cell_type": "code",
   "execution_count": 11,
   "metadata": {},
   "outputs": [
    {
     "name": "stdout",
     "output_type": "stream",
     "text": [
      "Specificity (True Negative Rate): 0.8242574257425742\n",
      "Sensitivity (True Positive Rate): 0.9595959595959596\n"
     ]
    }
   ],
   "source": [
    "y_pred = clf.predict(x_test1)\n",
    "conf_matrix = confusion_matrix(y_test, y_pred)\n",
    "\n",
    "\n",
    "TN, FP, FN, TP = conf_matrix[0, 0], conf_matrix[0, 1], conf_matrix[1, 0], conf_matrix[1, 1]\n",
    "\n",
    "# Calculate Specificity and Sensitivity\n",
    "specificity = TN / (TN + FP)\n",
    "sensitivity = TP / (TP + FN)\n",
    "\n",
    "print(f\"Specificity (True Negative Rate): {specificity}\")\n",
    "print(f\"Sensitivity (True Positive Rate): {sensitivity}\")"
   ]
  },
  {
   "cell_type": "code",
   "execution_count": 12,
   "metadata": {},
   "outputs": [
    {
     "data": {
      "image/png": "[encoded data removed]",
      "text/plain": [
       "<Figure size 640x480 with 1 Axes>"
      ]
     },
     "metadata": {},
     "output_type": "display_data"
    }
   ],
   "source": [
    "sns.heatmap(conf_matrix, annot=True, fmt='d', cbar=False)\n",
    "\n",
    "plt.title('Confusion Matrix for Naive Bayes')\n",
    "plt.xlabel('true label')\n",
    "plt.ylabel('predicted label')\n",
    "plt.show()"
   ]
  },
  {
   "cell_type": "code",
   "execution_count": 13,
   "metadata": {},
   "outputs": [
    {
     "name": "stdout",
     "output_type": "stream",
     "text": [
      "F1 Score with Naive-bayes:  0.8908092306100274\n",
      "AUC with Naive-bayes:  0.891926692669267\n"
     ]
    },
    {
     "data": {
      "image/png": "[encoded data removed]",
      "text/plain": [
       "<Figure size 800x600 with 1 Axes>"
      ]
     },
     "metadata": {},
     "output_type": "display_data"
    }
   ],
   "source": [
    "# F1 Score\n",
    "f1_naive = f1_score(y_test, y_pred, average='weighted')\n",
    "print(\"F1 Score with Naive-bayes: \",f1_naive)\n",
    "\n",
    "# AUC\n",
    "auc_naive = roc_auc_score(y_test, y_pred)\n",
    "print(\"AUC with Naive-bayes: \",auc_naive)\n",
    "\n",
    "y_prob = clf.predict_proba(x_test1)\n",
    "fpr, tpr, thresholds = roc_curve(y_test, y_prob[:, 1])  # Considering probabilities for the positive class\n",
    "roc_auc = auc(fpr, tpr)\n",
    "plt.figure(figsize=(8, 6))\n",
    "plt.plot(fpr, tpr, label=f'AUC = {roc_auc:.2f}')\n",
    "plt.plot([0, 1], [0, 1], 'r--', label='Random')\n",
    "plt.xlabel('False Positive Rate')\n",
    "plt.ylabel('True Positive Rate')\n",
    "plt.title('Receiver Operating Characteristic (ROC) Curve')\n",
    "plt.legend()\n",
    "plt.show()\n"
   ]
  },
  {
   "cell_type": "markdown",
   "metadata": {},
   "source": [
    "## Synthetic data"
   ]
  },
  {
   "cell_type": "code",
   "execution_count": 14,
   "metadata": {},
   "outputs": [
    {
     "data": {
      "text/html": [
       "<div>\n",
       "<style scoped>\n",
       "    .dataframe tbody tr th:only-of-type {\n",
       "        vertical-align: middle;\n",
       "    }\n",
       "\n",
       "    .dataframe tbody tr th {\n",
       "        vertical-align: top;\n",
       "    }\n",
       "\n",
       "    .dataframe thead th {\n",
       "        text-align: right;\n",
       "    }\n",
       "</style>\n",
       "<table border=\"1\" class=\"dataframe\">\n",
       "  <thead>\n",
       "    <tr style=\"text-align: right;\">\n",
       "      <th></th>\n",
       "      <th>offensive</th>\n",
       "      <th>class</th>\n",
       "      <th>clean_tweet</th>\n",
       "      <th>tokenized</th>\n",
       "    </tr>\n",
       "  </thead>\n",
       "  <tbody>\n",
       "    <tr>\n",
       "      <th>0</th>\n",
       "      <td>Yes</td>\n",
       "      <td>1</td>\n",
       "      <td>know bitch</td>\n",
       "      <td>['know', 'bitch']</td>\n",
       "    </tr>\n",
       "    <tr>\n",
       "      <th>1</th>\n",
       "      <td>No</td>\n",
       "      <td>0</td>\n",
       "      <td>oreo ice cream httptcothrkaobdvj</td>\n",
       "      <td>['oreo', 'ice', 'cream', 'httptcothrkaobdvj']</td>\n",
       "    </tr>\n",
       "    <tr>\n",
       "      <th>2</th>\n",
       "      <td>Yes</td>\n",
       "      <td>1</td>\n",
       "      <td>swear got shit make bitch go insane</td>\n",
       "      <td>['swear', 'got', 'shit', 'make', 'bitch', 'go'...</td>\n",
       "    </tr>\n",
       "    <tr>\n",
       "      <th>3</th>\n",
       "      <td>No</td>\n",
       "      <td>0</td>\n",
       "      <td>want oreo help</td>\n",
       "      <td>['want', 'oreo', 'help']</td>\n",
       "    </tr>\n",
       "    <tr>\n",
       "      <th>4</th>\n",
       "      <td>No</td>\n",
       "      <td>0</td>\n",
       "      <td>clean dead bird piece glass</td>\n",
       "      <td>['clean', 'dead', 'bird', 'piec', 'glass']</td>\n",
       "    </tr>\n",
       "  </tbody>\n",
       "</table>\n",
       "</div>"
      ],
      "text/plain": [
       "  offensive  class                          clean_tweet  \\\n",
       "0       Yes      1                           know bitch   \n",
       "1        No      0     oreo ice cream httptcothrkaobdvj   \n",
       "2       Yes      1  swear got shit make bitch go insane   \n",
       "3        No      0                       want oreo help   \n",
       "4        No      0          clean dead bird piece glass   \n",
       "\n",
       "                                           tokenized  \n",
       "0                                  ['know', 'bitch']  \n",
       "1      ['oreo', 'ice', 'cream', 'httptcothrkaobdvj']  \n",
       "2  ['swear', 'got', 'shit', 'make', 'bitch', 'go'...  \n",
       "3                           ['want', 'oreo', 'help']  \n",
       "4         ['clean', 'dead', 'bird', 'piec', 'glass']  "
      ]
     },
     "execution_count": 14,
     "metadata": {},
     "output_type": "execute_result"
    }
   ],
   "source": [
    "combine.head()"
   ]
  },
  {
   "cell_type": "code",
   "execution_count": 15,
   "metadata": {},
   "outputs": [],
   "source": [
    "#generate probabilities of a word in corpus being neg or pos\n",
    "proba = clf.predict_proba(vocabvec)"
   ]
  },
  {
   "cell_type": "code",
   "execution_count": 16,
   "metadata": {},
   "outputs": [],
   "source": [
    "from collections import defaultdict\n",
    "\n",
    "# Assuming proba is a list of probabilities associated with each word in corpus_\n",
    "# proba should have the same length as corpus_\n",
    "# Replace proba with your actual list of probabilities\n",
    "\n",
    "pos_vocab = defaultdict(float)\n",
    "neg_vocab = defaultdict(float)\n",
    "\n",
    "for i, w in enumerate(corpus_):\n",
    "    # Assuming proba[i] contains the probabilities associated with word w\n",
    "    pos_vocab[w] = proba[i][1]  # Assuming proba[i][1] contains positive class probability\n",
    "    neg_vocab[w] = proba[i][0]  # Assuming proba[i][0] contains negative class probability\n"
   ]
  },
  {
   "cell_type": "code",
   "execution_count": 26,
   "metadata": {},
   "outputs": [],
   "source": [
    "import numpy as np\n",
    "\n",
    "# Assuming you have num_reviews and num_words_per_review defined earlier\n",
    "threshold = 0.5  # Set your threshold here\n",
    "num_reviews = 4000\n",
    "num_words_per_review = np.random.randint(5, 10, size=num_reviews).tolist()\n",
    "\n",
    "# Initialize an empty list to store synthetic positive and negative reviews\n",
    "pos_reviews = []\n",
    "neg_reviews = []\n",
    "\n",
    "# Generate synthetic positive reviews\n",
    "for i in range(num_reviews):\n",
    "    pos_probs = np.array(list(pos_vocab.values()))\n",
    "    pos_probs /= pos_probs.sum()  # Normalize probabilities to ensure they sum up to 1\n",
    "    pos_review_words = np.random.choice(list(pos_vocab.keys()), size=num_words_per_review[i], replace=True, p=pos_probs)\n",
    "    pos_review = ' '.join(pos_review_words)\n",
    "    pos_reviews.append(pos_review)\n",
    "\n",
    "# Generate synthetic negative reviews\n",
    "for i in range(num_reviews):\n",
    "    neg_probs = np.array(list(neg_vocab.values()))\n",
    "    neg_probs /= neg_probs.sum()  # Normalize probabilities to ensure they sum up to 1\n",
    "    neg_review_words = np.random.choice(list(neg_vocab.keys()), size=num_words_per_review[i], replace=True, p=neg_probs)\n",
    "    neg_review = ' '.join(neg_review_words)\n",
    "    neg_reviews.append(neg_review)\n",
    "\n",
    "# Combine positive and negative reviews into a single list\n",
    "rev_list = pos_reviews + neg_reviews\n",
    "\n",
    "# Create corresponding sentiments (1 for positive, 0 for negative)\n",
    "sen_list = [1] * num_reviews + [0] * num_reviews\n",
    "\n",
    "# Create a DataFrame from the synthetic data\n",
    "syn_data = pd.DataFrame({'review': rev_list, 'sentiment': sen_list})\n",
    "\n",
    "\n",
    "#syn_data.to_csv('../generated_review.csv', index=False)"
   ]
  },
  {
   "cell_type": "code",
   "execution_count": 30,
   "metadata": {},
   "outputs": [
    {
     "data": {
      "text/plain": [
       "sentiment\n",
       "1    4000\n",
       "0    4000\n",
       "Name: count, dtype: int64"
      ]
     },
     "execution_count": 30,
     "metadata": {},
     "output_type": "execute_result"
    }
   ],
   "source": [
    "syn_data['sentiment'].value_counts()"
   ]
  },
  {
   "cell_type": "code",
   "execution_count": 19,
   "metadata": {},
   "outputs": [],
   "source": [
    "# from collections import defaultdict\n",
    "# pos_vocab = defaultdict(list)\n",
    "\n",
    "# for i, w in enumerate(corpus_):\n",
    "#     pos_vocab[w] = proba[i][1] \n",
    "\n",
    "# neg_vocab = defaultdict(list)\n",
    "\n",
    "# for i, w in enumerate(corpus_):\n",
    "#     neg_vocab[w] = proba[i][0] "
   ]
  },
  {
   "cell_type": "code",
   "execution_count": 20,
   "metadata": {},
   "outputs": [],
   "source": [
    "# rev_len_pd = pd.Series([len(i.split()) for i in x_train])\n",
    "# num_reviews = 6000\n",
    "# num_words_per_review = list(rev_len_pd.sample(num_reviews))\n",
    "# pos_reviews = []\n",
    "# pos = np.array(list(pos_vocab.values()))\n",
    "# pos_probs = pos / sum(pos)\n",
    "# pos_words = list(pos_vocab.keys())\n",
    "# for i in range(num_reviews):\n",
    "#     pos_reviews += [' '.join(np.random.choice(pos_words, size=num_words_per_review[i], p=pos_probs))]\n",
    "# print(\"Finished Positive Reviews\")\n",
    "\n",
    "# num_words_per_review = list(rev_len_pd.sample(num_reviews))\n",
    "# neg_reviews = []\n",
    "# neg = np.array(list(neg_vocab.values()))\n",
    "# neg_probs = neg / sum(neg)\n",
    "# neg_words = list(neg_vocab.keys())\n",
    "# for i in range(num_reviews):\n",
    "#     neg_reviews += [' '.join(np.random.choice(neg_words, size=num_words_per_review[i], p=neg_probs))]\n",
    "# print(\"Finished Negative Reviews\")\n",
    "\n",
    "# rev_list = pos_reviews + neg_reviews\n",
    "# sen_list = [1]*len(pos_reviews) + [0]*len(neg_reviews)\n",
    "\n",
    "# syn_data = pd.DataFrame([rev_list,sen_list], index=['review','sentiment']).T\n",
    "\n",
    "# syn_data.to_csv('generated_review.csv', index=False)\n",
    "\n",
    "# print(pd.Series([len(text.split()) for text in syn_data['review']]).describe())\n"
   ]
  },
  {
   "cell_type": "code",
   "execution_count": 35,
   "metadata": {},
   "outputs": [
    {
     "name": "stdout",
     "output_type": "stream",
     "text": [
      "Train data has 6400 samples\n",
      "Test data has 1600 samples\n"
     ]
    }
   ],
   "source": [
    "train_syn, test_syn = train_test_split(syn_data,test_size = 0.2,stratify=syn_data['sentiment'])\n",
    "x_train,y_train,x_test,y_test = train_syn['review'].values,train_syn['sentiment'].values,test_syn['review'].values,test_syn['sentiment'].values\n",
    "print(f'Train data has {x_train.shape[0]} samples')\n",
    "print(f'Test data has {x_test.shape[0]} samples')"
   ]
  },
  {
   "cell_type": "code",
   "execution_count": null,
   "metadata": {},
   "outputs": [],
   "source": [
    "train_syn.to_csv('../01_Data/02_Processed/train_syn.csv', index=False)\n",
    "test_syn.to_csv('../01_Data/02_Processed/test_syn.csv', index=False)"
   ]
  },
  {
   "cell_type": "code",
   "execution_count": 36,
   "metadata": {},
   "outputs": [
    {
     "data": {
      "text/plain": [
       "sentiment\n",
       "0    3200\n",
       "1    3200\n",
       "Name: count, dtype: int64"
      ]
     },
     "execution_count": 36,
     "metadata": {},
     "output_type": "execute_result"
    }
   ],
   "source": [
    "train_syn['sentiment'].value_counts()"
   ]
  },
  {
   "cell_type": "code",
   "execution_count": 37,
   "metadata": {},
   "outputs": [],
   "source": [
    "#convert training and test to tfidf vectors\n",
    "vectorizer = TfidfVectorizer()\n",
    "vectorizer.fit(x_train)\n",
    "x_train1 = vectorizer.transform(x_train)\n",
    "x_test1 = vectorizer.transform(x_test)\n",
    "y_train = y_train.astype('int64')\n",
    "y_test = y_test.astype('int64')"
   ]
  },
  {
   "cell_type": "markdown",
   "metadata": {},
   "source": [
    "### NB for synthetic data"
   ]
  },
  {
   "cell_type": "code",
   "execution_count": 38,
   "metadata": {},
   "outputs": [
    {
     "name": "stdout",
     "output_type": "stream",
     "text": [
      "Naive Bayes model accuracy for synthetic dataset: 70.8125%\n"
     ]
    }
   ],
   "source": [
    "clf = MultinomialNB()\n",
    "clf.fit(x_train1, y_train)\n",
    "print(f'Naive Bayes model accuracy for synthetic dataset: {clf.score(x_test1, y_test)*100}%')"
   ]
  },
  {
   "cell_type": "code",
   "execution_count": 39,
   "metadata": {},
   "outputs": [
    {
     "data": {
      "image/png": "[encoded data removed]",
      "text/plain": [
       "<Figure size 640x480 with 1 Axes>"
      ]
     },
     "metadata": {},
     "output_type": "display_data"
    }
   ],
   "source": [
    "y_pred = clf.predict(x_test1)\n",
    "conf_matrix = confusion_matrix(y_test, y_pred)\n",
    "sns.heatmap(conf_matrix, annot=True, fmt='d', cbar=False)\n",
    "\n",
    "plt.title('Confusion Matrix for Naive Bayes')\n",
    "plt.xlabel('true label')\n",
    "plt.ylabel('predicted label')\n",
    "plt.show()"
   ]
  }
 ],
 "metadata": {
  "kernelspec": {
   "display_name": "Python 3",
   "language": "python",
   "name": "python3"
  },
  "language_info": {
   "codemirror_mode": {
    "name": "ipython",
    "version": 3
   },
   "file_extension": ".py",
   "mimetype": "text/x-python",
   "name": "python",
   "nbconvert_exporter": "python",
   "pygments_lexer": "ipython3",
   "version": "3.10.12"
  }
 },
 "nbformat": 4,
 "nbformat_minor": 2
}
